{
 "cells": [
  {
   "cell_type": "markdown",
   "metadata": {},
   "source": [
    "# Export results using different displacement height and roughness length;\n",
    "- This script is used to export flux variables using different displacement height and roughness length;\n",
    "- Simulations: CNTL, S1, S2, S3;"
   ]
  },
  {
   "cell_type": "code",
   "execution_count": 1,
   "metadata": {},
   "outputs": [],
   "source": [
    "import os\n",
    "import xarray as xr\n",
    "import numpy as np\n",
    "import pandas as pd\n",
    "import cftime\n",
    "import string"
   ]
  },
  {
   "cell_type": "code",
   "execution_count": 2,
   "metadata": {},
   "outputs": [],
   "source": [
    "archive_path = '/mnt/iusers01/fatpou01/sees01/a16404ys/scratch/Projects/archive/0project2/'\n",
    "CNTL = archive_path + '0sp/UK-Kin_def/lnd/hist/UK-Kin_def.clm2.h0.2002-01-01-00000.nc'\n",
    "S1 = archive_path + '0roughness_sensitivity/UK-Kin_S1/lnd/hist/UK-Kin_S1.clm2.h0.2002-01-01-00000.nc'\n",
    "S3 = archive_path + '0roughness_sensitivity/UK-Kin_S3/lnd/hist/UK-Kin_S3.clm2.h0.2002-01-01-00000.nc'\n",
    "datm = '/mnt/iusers01/fatpou01/sees01/a16404ys/scratch/UrbanPlumber/datm_files/UK-Kin/CLM1PT_data/CTSM_DATM_UK-Kin_2002-2014.nc'\n",
    "observation = '/mnt/iusers01/fatpou01/sees01/a16404ys/scratch/UrbanPlumber/Urban-PLUMBER_FullCollection_v1/UK-KingsCollege/timeseries/UK-KingsCollege_clean_observations_v1.nc'\n",
    "ds_cntl = xr.open_dataset(CNTL)\n",
    "ds_s1 = xr.open_dataset(S1)\n",
    "ds_s3 = xr.open_dataset(S3)\n",
    "ds_datm = xr.open_dataset(datm)\n",
    "ds_ob = xr.open_dataset(observation)\n",
    "\n",
    "start_time = '2012-04-04T00:00:00'\n",
    "end_time = '2013-12-31T21:00:00'\n",
    "mid_time = ['2013-01-01T00:00:00']\n",
    "\n",
    "sequence = ['Rn', 'SWup', 'LWup', 'Qh', 'Qle', 'Qtau']\n",
    "sequence2 = ['$R_{n}$', '$SW_{up}$', '$LW_{up}$', '$Q_{h}$', '$Q_{le}$', '$Q_{tau}$']\n",
    "var0 = ['LWdown', 'SWdown']\n",
    "var1 = ['LWdown', 'SWdown','LWup', 'SWup', 'Qh', 'Qle', 'Qtau']\n",
    "var2 = ['FIRE_U', 'FSR', 'FSH_U', 'EFLX_LH_TOT_U', 'TAUX']\n",
    "time_zone = 0"
   ]
  },
  {
   "cell_type": "code",
   "execution_count": 3,
   "metadata": {},
   "outputs": [],
   "source": [
    "ds_cntl['time']=ds_cntl['time'].dt.round('min')\n",
    "ds_cntl['time']=ds_cntl['time'].dt.ceil('min')\n",
    "ds_s1['time']=ds_s1['time'].dt.round('min')\n",
    "ds_s1['time']=ds_s1['time'].dt.ceil('min')\n",
    "ds_s3['time']=ds_s3['time'].dt.round('min')\n",
    "ds_s3['time']=ds_s3['time'].dt.ceil('min')\n",
    "\n",
    "sliced_ds_datm = ds_datm.sel(time=slice(start_time, end_time))[var0]\n",
    "df_datm = sliced_ds_datm.to_dataframe().reset_index()\n",
    "\n",
    "sliced_ds_cntl = ds_cntl.sel(time=slice(start_time, end_time))[var2]\n",
    "df_cntl = sliced_ds_cntl.to_dataframe().reset_index()\n",
    "df_cntl.drop(columns=['lndgrid'], inplace=True)\n",
    "df_cntl = df_cntl.rename(columns={'FIRE_U': 'LWup_def', 'FSR': 'SWup_def','FSH_U': 'Qh_def', 'EFLX_LH_TOT_U': 'Qle_def', 'TAUX': 'Qtau_def'})\n",
    "df_cntl['Qtau_def'] = - df_cntl['Qtau_def']\n",
    "df_cntl['Rn_def'] = df_datm['LWdown'] + df_datm['SWdown'] - df_cntl['SWup_def'] - df_cntl['LWup_def']\n",
    "\n",
    "sliced_ds_s1 = ds_s1.sel(time=slice(start_time, end_time))[var2]\n",
    "df_s1 = sliced_ds_s1.to_dataframe().reset_index()\n",
    "df_s1.drop(columns=['lndgrid'], inplace=True)\n",
    "df_s1 = df_s1.rename(columns={'FIRE_U': 'LWup_s1', 'FSR': 'SWup_s1','FSH_U': 'Qh_s1', 'EFLX_LH_TOT_U': 'Qle_s1', 'TAUX': 'Qtau_s1'})\n",
    "df_s1['Qtau_s1'] = - df_s1['Qtau_s1']\n",
    "df_s1['Rn_s1'] = df_datm['LWdown'] + df_datm['SWdown'] - df_s1['SWup_s1'] - df_s1['LWup_s1']\n",
    "\n",
    "sliced_ds_s3 = ds_s3.sel(time=slice(start_time, end_time))[var2]\n",
    "df_s3 = sliced_ds_s3.to_dataframe().reset_index()\n",
    "df_s3.drop(columns=['lndgrid'], inplace=True)\n",
    "df_s3 = df_s3.rename(columns={'FIRE_U': 'LWup_s3', 'FSR': 'SWup_s3','FSH_U': 'Qh_s3', 'EFLX_LH_TOT_U': 'Qle_s3', 'TAUX': 'Qtau_s3'})\n",
    "df_s3['Qtau_s3'] = - df_s3['Qtau_s3']\n",
    "df_s3['Rn_s3'] = df_datm['LWdown'] + df_datm['SWdown'] - df_s3['SWup_s3'] - df_s3['LWup_s3']\n",
    "\n",
    "sliced_ds_ob = ds_ob.sel(time=slice(start_time, end_time))[var1]\n",
    "df_ob = sliced_ds_ob.to_dataframe().reset_index()\n",
    "df_ob = df_ob.rename(columns={'LWdown': 'LWdown_obs', \n",
    "                                      'SWdown': 'SWdown_obs',\n",
    "                                      'LWup': 'LWup_obs', \n",
    "                                      'SWup': 'SWup_obs',\n",
    "                                      'Qh': 'Qh_obs', \n",
    "                                      'Qle': 'Qle_obs', \n",
    "                                      'Qtau': 'Qtau_obs'})\n",
    "df_ob['Rn_obs'] = df_ob['LWdown_obs'] + df_ob['SWdown_obs']-df_ob['SWup_obs']-df_ob['LWup_obs']\n",
    "\n",
    "df = pd.merge(df_ob, df_cntl, on='time').merge(df_s1, on='time').merge(df_s3, on='time')\n",
    "df.loc[df['LWup_obs'].isna(), ['LWup_s1', 'LWup_s2','LWup_def',\n",
    "                                  'Rn_obs', 'Rn_s1', 'Rn_s3', 'Rn_def']] = np.nan\n",
    "df.loc[df['SWup_obs'].isna(), ['SWup_s1', 'SWup_s3', 'SWup_def',\n",
    "                                  'Rn_obs', 'Rn_s1', 'Rn_s3', 'Rn_def']] = np.nan\n",
    "df.loc[df['Qle_obs'].isna(), ['Qle_s1', 'Qle_s3','Qle_def']] = np.nan\n",
    "df.loc[df['Qh_obs'].isna(), ['Qh_s1', 'Qh_s3','Qh_def']] = np.nan\n",
    "df.loc[df['Qtau_obs'].isna(), ['Qtau_s1', 'Qtau_s3','Qtau_def']] = np.nan\n",
    "\n",
    "df['hour']=(df.time.dt.hour + time_zone) % 24\n",
    "df['minute']=df.time.dt.minute\n",
    "df['diurnal']=df['hour'].astype(str).str.zfill(2) + ':' + df['minute'].astype(str).str.zfill(2)\n",
    "output_dir = '/mnt/iusers01/fatpou01/sees01/a16404ys/scratch/output_analysis/project2/sp_roughness_sensitivity/kingscollege/'\n",
    "df.to_csv(output_dir + 'result.csv', index = False)"
   ]
  },
  {
   "cell_type": "code",
   "execution_count": null,
   "metadata": {},
   "outputs": [],
   "source": []
  }
 ],
 "metadata": {
  "kernelspec": {
   "display_name": "Environment (yuanenv)",
   "language": "python",
   "name": "yuanenv"
  },
  "language_info": {
   "codemirror_mode": {
    "name": "ipython",
    "version": 3
   },
   "file_extension": ".py",
   "mimetype": "text/x-python",
   "name": "python",
   "nbconvert_exporter": "python",
   "pygments_lexer": "ipython3",
   "version": "3.12.2"
  }
 },
 "nbformat": 4,
 "nbformat_minor": 2
}
